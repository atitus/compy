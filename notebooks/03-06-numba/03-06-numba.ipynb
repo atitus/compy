{
 "cells": [
  {
   "cell_type": "markdown",
   "metadata": {},
   "source": [
    "# Use Numba to Create Bifurcation Diagram for the DDP"
   ]
  },
  {
   "cell_type": "markdown",
   "metadata": {},
   "source": [
    "## Create useful functions for finding $\\theta(t)$ at each period"
   ]
  },
  {
   "cell_type": "code",
   "execution_count": null,
   "metadata": {},
   "outputs": [],
   "source": [
    "%matplotlib notebook"
   ]
  },
  {
   "cell_type": "code",
   "execution_count": 1,
   "metadata": {},
   "outputs": [],
   "source": [
    "import numpy as np\n",
    "import matplotlib.pyplot as plt"
   ]
  },
  {
   "cell_type": "code",
   "execution_count": 2,
   "metadata": {},
   "outputs": [],
   "source": [
    "import time\n",
    "from numba import jit\n",
    "#from numba.typed import List"
   ]
  },
  {
   "cell_type": "markdown",
   "metadata": {},
   "source": [
    "A number of changes have been made to the code in our previous notebook.\n",
    "\n",
    "- The previous notebook used a list to store $\\theta$ and $\\omega$ in each time step. In this notebook, the functions are rewritten to store $\\theta$ and $\\omega$ in a numpy array. \n",
    "- No global variables are used. Our `model_pendulum` function now takes a third argument `const` that is an array of the constants in the ODEs.\n",
    "- The integrator function `RK4const` now takes a fourth argument `const` that is an array of the constants in the ODEs. It passes these constants to the model function.\n",
    "- The model function is no longer an argument for the integrator function. Rather, the model function has been written explicitly into the integrator function. We lose generality, yes, but it may be necessary for `numba`.\n"
   ]
  },
  {
   "cell_type": "code",
   "execution_count": 3,
   "metadata": {},
   "outputs": [],
   "source": [
    "def model_pendulum(y, t, const): # y=[theta,omega]; function returns [dtheta/dt, domega/dt]\n",
    "    # const is an array with [gamma, beta, omega_0, omega_d]\n",
    "    gamma = const[0]\n",
    "    beta = const[1]\n",
    "    omega_0 = const[2]\n",
    "    omega_d = const[3]\n",
    "    \n",
    "    theta = y[0]\n",
    "    omega = y[1]\n",
    "    \n",
    "    dtheta_dt = omega\n",
    "    domega_dt = omega_0**2*gamma*np.cos(omega_d*t) - omega_0**2*np.sin(theta)-2*beta*omega\n",
    "    \n",
    "    return np.array([dtheta_dt, domega_dt])\n",
    "\n",
    "def RK4const(y0, t, h, const):\n",
    "    \"\"\" RK4 method for ODEs:\n",
    "        Given y0 at t, returns y1 at t+h \"\"\"\n",
    "    k1 = h*model_pendulum(y0, t, const)                    # dy/dt at t\n",
    "    k2 = h*model_pendulum(y0+0.5*k1, t + h/2., const)      # dy/dt at t+h/2\n",
    "    k3 = h*model_pendulum(y0+0.5*k2, t + h/2., const)      # dy/dt at t+h/2\n",
    "    k4 = h*model_pendulum(y0+k3, t + h, const)             # dy/dt at t+h\n",
    "    return y0 + (k1+k4)/6.0 + (k2+k3)/3.0\n",
    "\n",
    "def run_pendulum(gam=0.2, beta=3/4*np.pi, theta_i=0, omega_i=0, t_total = 10):\n",
    "    \n",
    "    omega_d = 2*np.pi\n",
    "    omega_0 = 1.5*omega_d\n",
    "    \n",
    "    const = np.array([gam,beta,omega_0,omega_d])\n",
    "\n",
    "    t = 0.0\n",
    "    h = 0.001\n",
    "\n",
    "    data = np.array([theta_i,omega_i])\n",
    "\n",
    "    tdata = []\n",
    "    thetadata = []\n",
    "    omegadata = []\n",
    "    Fddata = []\n",
    "\n",
    "    tdata.append(t)\n",
    "    thetadata.append(theta_i)\n",
    "    omegadata.append(omega_i)\n",
    "    Fddata.append(gam*np.cos(omega_d*t))\n",
    "\n",
    "    while t < t_total:\n",
    "        #integrate\n",
    "        data = RK4const(data, t, h, const) #update y[n]\n",
    "\n",
    "        t = t + h #update clock\n",
    "\n",
    "        tdata.append(t)\n",
    "        thetadata.append(data[0])\n",
    "        omegadata.append(data[1])\n",
    "        Fddata.append(gam*np.cos(omega_d*t))\n",
    "\n",
    "    return np.array(tdata), np.array(thetadata), np.array(omegadata), np.array(Fddata)\n",
    "\n",
    "def get_fixed_points(g = 1.06): #return thetas at N integer times in the steady state\n",
    "    \n",
    "    t_total = 600\n",
    "    N_last_periods = 100\n",
    "\n",
    "    tdata, thetadata, omegadata, Fddata = run_pendulum(g, 3/4*np.pi, -np.pi/2, 0, t_total)\n",
    "\n",
    "    times = np.arange(500,600,1)\n",
    "    thetas = []\n",
    "\n",
    "    for t in times:\n",
    "        index = np.abs(tdata-t).argmin()\n",
    "        thetas.append(thetadata[index])\n",
    "\n",
    "    return thetas"
   ]
  },
  {
   "cell_type": "markdown",
   "metadata": {},
   "source": [
    "To find the attractors, call `get_fixed_points()` for a particular gamma. Plot the values of $\\theta$ vs. $\\gamma$, and increase gamma.\n",
    "\n",
    "- Our constants are `global gam, beta, omega_0, omega_d`.\n",
    "- Argument for `get_fixed_points()` is gamma. It returns an array of angles at equal time intervals (one period) after the initial transient.\n",
    "- Use $\\theta_i = -\\pi/2$ and $\\omega = 0$.\n",
    "- Use `time.time()` before and after the `for` loop to calculate how long it takes to calculate data for the bifurcation diagram."
   ]
  },
  {
   "cell_type": "markdown",
   "metadata": {},
   "source": [
    "## Calculate fixed point for one value of gamma"
   ]
  },
  {
   "cell_type": "code",
   "execution_count": 4,
   "metadata": {},
   "outputs": [
    {
     "name": "stdout",
     "output_type": "stream",
     "text": [
      "loop time =  26.006107091903687\n"
     ]
    }
   ],
   "source": [
    "gams = np.linspace(1.06,1.087,1)\n",
    "\n",
    "thetadata = []\n",
    "gamdata = []\n",
    "\n",
    "start = time.time()\n",
    "for g in gams:\n",
    "    \n",
    "    thetas = get_fixed_points(g)\n",
    "    thetadata = thetadata + thetas\n",
    "    \n",
    "    gamdata = gamdata + (g*np.ones(len(thetas))).tolist()\n",
    "\n",
    "end = time.time()\n",
    "\n",
    "totaltime = end-start\n",
    "\n",
    "print(\"loop time = \", totaltime)\n"
   ]
  },
  {
   "cell_type": "markdown",
   "metadata": {},
   "source": [
    "## Calculate fixed points for a range of gamma\n",
    "\n",
    "Use a range of $1.0600<\\gamma<1.0870$ in increments of 0.001. Plot the fixed points as a function of time. **This may take around 10 minutes to run.**"
   ]
  },
  {
   "cell_type": "code",
   "execution_count": 5,
   "metadata": {},
   "outputs": [
    {
     "name": "stdout",
     "output_type": "stream",
     "text": [
      "loop time =  601.7222092151642\n"
     ]
    }
   ],
   "source": [
    "gams = np.arange(1.06,1.087,0.001)\n",
    "\n",
    "thetadata = []\n",
    "gamdata = []\n",
    "\n",
    "start = time.time()\n",
    "for g in gams:\n",
    "    \n",
    "    thetas = get_fixed_points(g)\n",
    "    thetadata = thetadata + thetas\n",
    "    \n",
    "    gamdata = gamdata + (g*np.ones(len(thetas))).tolist()\n",
    "\n",
    "end = time.time()\n",
    "\n",
    "totaltime = end-start\n",
    "\n",
    "print(\"loop time = \", totaltime)\n"
   ]
  },
  {
   "cell_type": "code",
   "execution_count": 6,
   "metadata": {},
   "outputs": [
    {
     "data": {
      "image/png": "[encoded data removed]",
      "text/plain": [
       "<Figure size 576x432 with 1 Axes>"
      ]
     },
     "metadata": {
      "needs_background": "light"
     },
     "output_type": "display_data"
    }
   ],
   "source": [
    "plt.figure(figsize=(8,6))\n",
    "plt.title(\"Bifurcation Diagram for DDP\")\n",
    "plt.plot(gamdata,thetadata,'b.')\n",
    "plt.xlabel(\"$\\gamma$\")\n",
    "plt.ylabel(\"$\\\\theta$\")\n",
    "plt.grid(which='both', axis='both')\n",
    "plt.show()"
   ]
  },
  {
   "cell_type": "markdown",
   "metadata": {},
   "source": [
    "## Numba\n",
    "\n",
    "Numba can be used to speed up the slowest parts of your code (generally `for` loops).\n",
    "\n",
    "Here's a short blog article on [how to speed up your code with numba](https://towardsdatascience.com/heres-how-you-can-get-some-free-speed-on-your-python-code-with-numba-89fdc8249ef3).\n",
    "\n",
    "Here's the [numba documentation](https://numba.pydata.org/numba-doc/dev/index.html). The [5-minute guide](https://numba.pydata.org/numba-doc/dev/user/5minguide.html) is a good place to start. According to the documentation:\n",
    "\n",
    "    Numba is a just-in-time compiler for Python that works best on code that uses NumPy arrays and functions,\n",
    "    and loops. The most common way to use Numba is through its collection of decorators that can be applied to\n",
    "    your functions to instruct Numba to compile them. When a call is made to a Numba decorated function it is\n",
    "    compiled to machine code “just-in-time” for execution and all or part of your code can subsequently run\n",
    "    at native machine code speed!\n",
    "\n",
    "In the program below, I have used the `@jit` decorator on all functions. Howevever, the greatest speedup will occur for the `run_pendulum` function."
   ]
  },
  {
   "cell_type": "code",
   "execution_count": 15,
   "metadata": {},
   "outputs": [],
   "source": [
    "@jit(nopython=True)\n",
    "def model_pendulum_numba(y, t, const): # y=[theta,omega]; function returns [dtheta/dt, domega/dt]\n",
    "    # const is an array with [gamma, beta, omega_0, omega_d]\n",
    "    gamma = const[0]\n",
    "    beta = const[1]\n",
    "    omega_0 = const[2]\n",
    "    omega_d = const[3]\n",
    "    \n",
    "    theta = y[0]\n",
    "    omega = y[1]\n",
    "    \n",
    "    dtheta_dt = omega\n",
    "    domega_dt = omega_0**2*gamma*np.cos(omega_d*t) - omega_0**2*np.sin(theta)-2*beta*omega\n",
    "    \n",
    "    return np.array([dtheta_dt, domega_dt])\n",
    "\n",
    "@jit(nopython=True)\n",
    "def RK4const_numba(y0, t, h, const):\n",
    "    \"\"\" RK4 method for ODEs:\n",
    "        Given y0 at t, returns y1 at t+h \"\"\"\n",
    "    k1 = h*model_pendulum_numba(y0, t, const)                    # dy/dt at t\n",
    "    k2 = h*model_pendulum_numba(y0+0.5*k1, t + h/2., const)      # dy/dt at t+h/2\n",
    "    k3 = h*model_pendulum_numba(y0+0.5*k2, t + h/2., const)      # dy/dt at t+h/2\n",
    "    k4 = h*model_pendulum_numba(y0+k3, t + h, const)             # dy/dt at t+h\n",
    "    return y0 + (k1+k4)/6.0 + (k2+k3)/3.0\n",
    "\n",
    "@jit(nopython=True)\n",
    "def run_pendulum_numba(gam=0.2, beta=3/4*np.pi, theta_i=0, omega_i=0, t_total = 10):\n",
    "    \n",
    "    omega_d = 2*np.pi\n",
    "    omega_0 = 1.5*omega_d\n",
    "    \n",
    "    const = np.array([gam,beta,omega_0,omega_d])\n",
    "\n",
    "    t = 0.0\n",
    "    h = 0.001\n",
    "\n",
    "    data = np.array([theta_i,omega_i])\n",
    "\n",
    "    tdata = []\n",
    "    thetadata = []\n",
    "    omegadata = []\n",
    "    Fddata = []\n",
    "\n",
    "    tdata.append(t)\n",
    "    thetadata.append(theta_i)\n",
    "    omegadata.append(omega_i)\n",
    "    Fddata.append(gam*np.cos(omega_d*t))\n",
    "\n",
    "    while t < t_total:\n",
    "        #integrate\n",
    "        data = RK4const_numba(data, t, h, const) #update y[n]\n",
    "\n",
    "        t = t + h #update clock\n",
    "\n",
    "        tdata.append(t)\n",
    "        thetadata.append(data[0])\n",
    "        omegadata.append(data[1])\n",
    "        Fddata.append(gam*np.cos(omega_d*t))\n",
    "\n",
    "    return np.array(tdata), np.array(thetadata), np.array(omegadata), np.array(Fddata)\n",
    "\n",
    "@jit(nopython=True)\n",
    "def get_fixed_points_numba(g = 1.06): #return thetas at N integer times in the steady state\n",
    "    \n",
    "    t_total = 600\n",
    "    N_last_periods = 100\n",
    "\n",
    "    tdata, thetadata, omegadata, Fddata = run_pendulum_numba(g, 3/4*np.pi, -np.pi/2, 0, t_total)\n",
    "\n",
    "    times = np.arange(500,600,1)\n",
    "    thetas = []\n",
    "\n",
    "    for t in times:\n",
    "        index = np.abs(tdata-t).argmin()\n",
    "        thetas.append(thetadata[index])\n",
    "\n",
    "    return thetas"
   ]
  },
  {
   "cell_type": "markdown",
   "metadata": {},
   "source": [
    "The `nopython` mode means that the code must be a subset of python. In general, `numpy` is supported very well. But not all python syntax is supported. For example, using global variables and passing a function name as an argument for a function may not be supported."
   ]
  },
  {
   "cell_type": "markdown",
   "metadata": {},
   "source": [
    "## Use numba to calculate fixed point for one value of gamma"
   ]
  },
  {
   "cell_type": "code",
   "execution_count": 16,
   "metadata": {},
   "outputs": [
    {
     "name": "stdout",
     "output_type": "stream",
     "text": [
      "loop time =  6.099803924560547\n"
     ]
    }
   ],
   "source": [
    "gams = np.linspace(1.063,1.087,1)\n",
    "\n",
    "thetadata = []\n",
    "gamdata = []\n",
    "\n",
    "start = time.time()\n",
    "for g in gams:\n",
    "    \n",
    "    thetas = get_fixed_points_numba(g)\n",
    "    thetadata = thetadata + thetas\n",
    "    \n",
    "    gamdata = gamdata + (g*np.ones(len(thetas))).tolist()\n",
    "\n",
    "end = time.time()\n",
    "\n",
    "totaltime = end-start\n",
    "\n",
    "print(\"loop time = \", totaltime)\n"
   ]
  },
  {
   "cell_type": "markdown",
   "metadata": {},
   "source": [
    "Without numba, calculating the fixed points for one value of gamma took 23 s. With numba, it takes 3.1 s. That's a 7.4x improvement! "
   ]
  },
  {
   "cell_type": "markdown",
   "metadata": {},
   "source": [
    "## Use numba to calculate fixed point for a range of gammas\n",
    "\n",
    "Now, run for more iterations of gamma. In this case, let's use approximately 250 iterations of gamma."
   ]
  },
  {
   "cell_type": "code",
   "execution_count": 9,
   "metadata": {},
   "outputs": [
    {
     "name": "stdout",
     "output_type": "stream",
     "text": [
      "loop time =  323.54025077819824\n"
     ]
    }
   ],
   "source": [
    "gams = np.arange(1.062,1.087,0.0001)\n",
    "\n",
    "thetadata = []\n",
    "gamdata = []\n",
    "\n",
    "start = time.time()\n",
    "for g in gams:\n",
    "    \n",
    "    thetas = get_fixed_points_numba(g)\n",
    "    thetadata = thetadata + thetas\n",
    "    \n",
    "    gamdata = gamdata + (g*np.ones(len(thetas))).tolist()\n",
    "\n",
    "end = time.time()\n",
    "\n",
    "totaltime = end-start\n",
    "\n",
    "print(\"loop time = \", totaltime)\n"
   ]
  },
  {
   "cell_type": "markdown",
   "metadata": {},
   "source": [
    "250 iterations with numba took approximately half the time as 27 iterations without numba."
   ]
  },
  {
   "cell_type": "code",
   "execution_count": 14,
   "metadata": {},
   "outputs": [
    {
     "data": {
      "image/png": "[encoded data removed]",
      "text/plain": [
       "<Figure size 864x576 with 1 Axes>"
      ]
     },
     "metadata": {
      "needs_background": "light"
     },
     "output_type": "display_data"
    }
   ],
   "source": [
    "plt.figure(figsize=(12,8))\n",
    "plt.title(\"Bifurcation Diagram for DDP\")\n",
    "plt.plot(gamdata,thetadata,'b,')\n",
    "plt.xlabel(\"$\\gamma$\")\n",
    "plt.ylabel(\"$\\\\theta$\")\n",
    "plt.grid(which='both', axis='both')\n",
    "plt.savefig(\"DDP-bifurcation.png\", dpi=100)\n",
    "plt.show()"
   ]
  },
  {
   "cell_type": "markdown",
   "metadata": {},
   "source": [
    "## Exercise 1\n",
    "\n",
    "Which function benefits the most from from using `numba`? Remove the `@jit` decorator from all functions and then add it to only one function. Calculate the fixed point for one value of gamma. Repeat for all functions."
   ]
  },
  {
   "cell_type": "markdown",
   "metadata": {},
   "source": [
    "## Exercise 2\n",
    "\n",
    "After reading the [documentation](https://numba.pydata.org/numba-doc/dev/user/5minguide.html), try other options to speed up the program. Report what gives you the best results."
   ]
  },
  {
   "cell_type": "code",
   "execution_count": null,
   "metadata": {},
   "outputs": [],
   "source": []
  }
 ],
 "metadata": {
  "kernelspec": {
   "display_name": "Python 3",
   "language": "python",
   "name": "python3"
  },
  "language_info": {
   "codemirror_mode": {
    "name": "ipython",
    "version": 3
   },
   "file_extension": ".py",
   "mimetype": "text/x-python",
   "name": "python",
   "nbconvert_exporter": "python",
   "pygments_lexer": "ipython3",
   "version": "3.8.5"
  }
 },
 "nbformat": 4,
 "nbformat_minor": 2
}
