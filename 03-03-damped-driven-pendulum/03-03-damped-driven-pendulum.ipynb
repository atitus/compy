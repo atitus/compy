{
 "cells": [
  {
   "cell_type": "markdown",
   "metadata": {},
   "source": [
    "# Damped Driven Pendulum"
   ]
  },
  {
   "cell_type": "markdown",
   "metadata": {},
   "source": [
    "## Video\n",
    "\n",
    "source: [University of Michigan Demonstration Lab](https://www.youtube.com/watch?v=_TSp6KkMbP4)"
   ]
  },
  {
   "cell_type": "markdown",
   "metadata": {},
   "source": [
    "## Introduction"
   ]
  },
  {
   "cell_type": "markdown",
   "metadata": {},
   "source": [
    "Apply the angular momentum principle to a rigid pendulum of mass $m$ and length $L$ about an origin at the pendulum's pivot, A. Neglect the mass of the rod.\n",
    "\n",
    "$$\\vec{\\tau}_{net,A} = \\frac{d\\vec{L}_A}{dt}$$\n",
    "\n",
    "The motion is planar, with $\\vec{L}_A$ and $\\vec{\\tau}_A$ in the z direction. So,\n",
    "\n",
    "$$\\tau_{net,A,z} = \\frac{dL_{A,z}}{dt}$$\n",
    "\n",
    "The translational angular momentum of the pendulum about the pivot is $\\vec{L}_A=\\vec{r}_A \\times \\vec{p}$. Since $\\vec{r}_A$ and $\\vec{p}$ are always perpendicular in the $xy$ plane, and $\\vec{L}$ is in the z-direction, we can express the angular momentum as:\n",
    "\n",
    "$$L_{A,z} = mr^2\\omega_z$$\n",
    "\n",
    "We will write the z-component of the angular velocity as $\\omega_z=\\omega=\\frac{d\\theta}{dt}$, where the angle $\\theta$ is measured as positive, counterclockwise from the vertical. A positive $\\omega$ corresponds to counterclockwise rotation, in accordance with the right-hand rule. Substitute this into the angular momentum principle. Then,\n",
    "\n",
    "$$\\tau_{net,A,z} = mr^2\\frac{d\\omega}{dt}$$\n",
    "\n",
    "\n",
    "The forces on the pendulum bob are:\n",
    "\n",
    "1. Tension (by the rod) radially, toward the pivot.\n",
    "2. A sinusoidal driving force $F_{drive}=F_d\\cos(\\omega_d t)$ tangent to the path.\n",
    "3. Velocity dependent drag that is opposite the velocity of the pendulum.\n",
    "4. Gravitational force.\n",
    "\n",
    "The tension exerts no torque because $\\vec{r}\\times\\vec{F}_T$ is zero.\n",
    "\n",
    "The torques due to the other three forces, in the z direction, are:\n",
    "\n",
    "1. $\\tau_{drive}= rF_{drive}=rF_d\\cos(\\omega_d t)$.\n",
    "2. $\\tau_{grav} = -mgr\\sin\\theta$.\n",
    "3. $\\tau_{drag} = rF_{drag}\\frac{-\\omega}{|\\omega|}=rbv\\frac{-\\omega}{|\\omega|}=-r^2b\\omega$.\n",
    "\n",
    "Substituting into the angular momentum principle gives:\n",
    "\n",
    "$$rF_d\\cos(\\omega_d t) + -mgr\\sin\\theta + -r^2b\\omega = mr^2\\frac{d\\omega}{dt}$$\n",
    "\n",
    "Solve for $\\frac{d\\omega}{dt}$ to obtain a differential equation that describes the evolution of the pendulum.\n",
    "\n",
    "$$\\frac{d\\omega}{dt} = \\frac{F_d\\cos(\\omega_d t)}{mr}-\\frac{g}{r}\\sin\\theta-\\frac{b}{m}\\omega$$"
   ]
  },
  {
   "cell_type": "markdown",
   "metadata": {},
   "source": [
    "## Constants"
   ]
  },
  {
   "cell_type": "markdown",
   "metadata": {},
   "source": [
    "We will make the following common substitutions. \n",
    "\n",
    "1. Define the damping coefficient to have the same units as $\\omega_0$:\n",
    "\n",
    "$$\\beta=\\frac{b}{2m}$$\n",
    "\n",
    "2. The natural frequency of the system (if there is no drag and no driving force) is\n",
    "\n",
    "$$\\omega_0 = \\sqrt{\\frac{g}{r}}$$\n",
    "\n",
    "3. Define the drive strength $\\gamma$ as a unitless parameter that is the ratio of the max driving force to the weight $F_d/(mg)$. Then\n",
    "\n",
    "$$\\gamma = \\frac{F_d}{mg}=\\frac{F_d}{mr\\omega_0^2}$$\n",
    "\n",
    "Using these constants, we can rewrite the differential equation for $d\\omega /dt$ as:\n",
    "\n",
    "$$\\frac{d\\omega}{dt} = \\omega_0^2\\gamma \\cos(\\omega_d t)-\\omega_0^2\\sin\\theta-2\\beta\\omega$$"
   ]
  },
  {
   "cell_type": "markdown",
   "metadata": {},
   "source": [
    "## Values of Constants and Initial Conditions"
   ]
  },
  {
   "cell_type": "markdown",
   "metadata": {},
   "source": [
    "Let's choose a driving frequency $\\omega_d=2\\pi$ and a natural frequency $\\omega_0=1.5\\omega_d$.\n",
    "\n",
    "Choose the damping coefficient to be $\\beta=\\omega_0/4$.\n",
    "\n",
    "Use an initial angle $\\theta_i = 0$ rad and an initial angular velocity $\\omega_i = 0$ rad/s.\n",
    "\n",
    "Use a drive strength $\\gamma = 0.2$."
   ]
  },
  {
   "cell_type": "markdown",
   "metadata": {},
   "source": [
    "## Model"
   ]
  },
  {
   "cell_type": "markdown",
   "metadata": {},
   "source": [
    "Use the RK4 integrator to model the motion of the pendulum. Our differential equations are:\n",
    "\n",
    "$$\\frac{d\\theta}{dt}=\\omega$$\n",
    "\n",
    "$$\\frac{d\\omega}{dt} = \\omega_0^2\\gamma \\cos(\\omega_d t)-\\omega_0^2\\sin\\theta-2\\beta\\omega$$"
   ]
  },
  {
   "cell_type": "code",
   "execution_count": 2,
   "metadata": {},
   "outputs": [],
   "source": [
    "import numpy as np\n",
    "import matplotlib.pyplot as plt\n",
    "import ode"
   ]
  },
  {
   "cell_type": "markdown",
   "metadata": {},
   "source": [
    "The steps are to:\n",
    "- define a function that returns the derivatives in our model.\n",
    "- define the constants, initial conditions, and the vector that will contain the quantities in the derivatives.\n",
    "- integrate (i.e. compute the future motion iteratively)\n",
    "- plot $\\theta$ vs. time."
   ]
  },
  {
   "cell_type": "markdown",
   "metadata": {},
   "source": [
    "## Exercises"
   ]
  },
  {
   "cell_type": "markdown",
   "metadata": {},
   "source": [
    "### Exercise 1"
   ]
  },
  {
   "cell_type": "markdown",
   "metadata": {},
   "source": [
    "Adjust the contants to special cases to show the physics is correct."
   ]
  },
  {
   "cell_type": "markdown",
   "metadata": {},
   "source": [
    "### Exercise 2"
   ]
  },
  {
   "cell_type": "markdown",
   "metadata": {},
   "source": [
    "Change $\\gamma$. Try various values. Can we explain the results in terms of chaos?"
   ]
  },
  {
   "cell_type": "markdown",
   "metadata": {},
   "source": [
    "### Exercise 3"
   ]
  },
  {
   "cell_type": "markdown",
   "metadata": {},
   "source": [
    "Use VPython to animate the pendulum."
   ]
  },
  {
   "cell_type": "code",
   "execution_count": null,
   "metadata": {},
   "outputs": [],
   "source": []
  }
 ],
 "metadata": {
  "kernelspec": {
   "display_name": "Python 3",
   "language": "python",
   "name": "python3"
  },
  "language_info": {
   "codemirror_mode": {
    "name": "ipython",
    "version": 3
   },
   "file_extension": ".py",
   "mimetype": "text/x-python",
   "name": "python",
   "nbconvert_exporter": "python",
   "pygments_lexer": "ipython3",
   "version": "3.8.5"
  }
 },
 "nbformat": 4,
 "nbformat_minor": 2
}
